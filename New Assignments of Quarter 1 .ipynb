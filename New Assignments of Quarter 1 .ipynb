{
 "cells": [
  {
   "cell_type": "code",
   "execution_count": 1,
   "metadata": {},
   "outputs": [
    {
     "name": "stdout",
     "output_type": "stream",
     "text": [
      "(23, 12)\n"
     ]
    }
   ],
   "source": [
    "# Classic ancient Chinese puzzle solution:\n",
    "# We count 35 heads and 94 legs among the chickens and rabbits in a farm. How many rabbits and how many chickens do we have?\n",
    "\n",
    "def solve(numheads,numlegs):\n",
    "\n",
    "    ns='No solutions!'\n",
    "    for i in range(numheads+1):\n",
    "        j=numheads-i\n",
    "        if (2*i)+(4*j)==numlegs:\n",
    "            return i,j\n",
    "    return ns,ns\n",
    "\n",
    "\n",
    "numheads=35\n",
    "numlegs=94\n",
    "solutions=solve(numheads,numlegs)\n",
    "print (solutions)\n"
   ]
  },
  {
   "cell_type": "code",
   "execution_count": 3,
   "metadata": {},
   "outputs": [
    {
     "name": "stdout",
     "output_type": "stream",
     "text": [
      "Helloworld\n",
      "pto\n"
     ]
    }
   ],
   "source": [
    "## Please write a program which accepts a string from console and print the characters that have even indexes.\n",
    "\n",
    "def odd_values_string(str):  \n",
    "  result = \"\"   \n",
    "  for i in range(len(str)):  \n",
    "    if i % 2 == 0:  \n",
    "      result = result + str[i]  \n",
    "  return result  \n",
    "  \n",
    "print(odd_values_string(\"H1e2l3l4o5w6o7r8l9d\"))  \n",
    "print(odd_values_string('python')) "
   ]
  },
  {
   "cell_type": "code",
   "execution_count": 4,
   "metadata": {},
   "outputs": [
    {
     "name": "stdout",
     "output_type": "stream",
     "text": [
      "Input a word to reverse: asad\n",
      "dasa\n",
      "\n"
     ]
    }
   ],
   "source": [
    "## Please write a program which accepts a string from console and print it in reverse order.\n",
    "word = input(\"Input a word to reverse: \")\n",
    "\n",
    "for char in range(len(word) - 1, -1, -1):\n",
    "  print(word[char], end=\"\")\n",
    "print(\"\\n\")"
   ]
  },
  {
   "cell_type": "code",
   "execution_count": 8,
   "metadata": {},
   "outputs": [
    {
     "name": "stdout",
     "output_type": "stream",
     "text": [
      "{'S': 1, 'a': 2, 'y': 1, 'l': 1, 'n': 1, 'i': 1, ' ': 2, 'H': 1, 'O': 1, '\"': 2, 'P': 1, 'I': 1, 'A': 1, 'C': 1}\n"
     ]
    }
   ],
   "source": [
    "## Please write a program which count and print the numbers of each character in a string input by console.\n",
    "\n",
    "def char_frequency(str1):\n",
    "    dict = {}\n",
    "    for n in str1:\n",
    "        keys = dict.keys()\n",
    "        if n in keys:\n",
    "            dict[n] += 1\n",
    "        else:\n",
    "            dict[n] = 1\n",
    "    return dict\n",
    "print(char_frequency('Saylani HO \"PIAC\"'))"
   ]
  },
  {
   "cell_type": "code",
   "execution_count": null,
   "metadata": {},
   "outputs": [],
   "source": [
    "def divide(x, y): \n",
    "    try: \n",
    "        # Floor Division : Gives only Fractional Part as Answer \n",
    "        result = x // y \n",
    "        print(\"Yeah ! Your answer is :\", result) \n",
    "    except ZeroDivisionError: \n",
    "        print(\"Sorry ! You are dividing by zero \") \n",
    "  \n",
    "# Look at parameters and note the working of Program \n",
    "divide(5, 0)"
   ]
  },
  {
   "cell_type": "code",
   "execution_count": null,
   "metadata": {},
   "outputs": [],
   "source": [
    "def divide():\n",
    "    return 5/0\n",
    "\n",
    "try:\n",
    "    divide()\n",
    "except ZeroDivisionError as ze:\n",
    "    print(\"Why you are dividing a number by ZERO!!\")\n",
    "except:\n",
    "    print(\"Any other exception\")"
   ]
  },
  {
   "cell_type": "code",
   "execution_count": 9,
   "metadata": {},
   "outputs": [
    {
     "name": "stdout",
     "output_type": "stream",
     "text": [
      "['john']\n"
     ]
    }
   ],
   "source": [
    "def getname(s):\n",
    "    try:\n",
    "        return s.split(\"@\")[0]\n",
    "    except:\n",
    "        print(\"This is not a email-adress\")\n",
    "\n",
    "getname(\"john@google.com\")\n",
    "import re\n",
    "\n",
    "email = \"john@google.com\"\n",
    "pattern = \"(\\w+)@\\w+.com\"\n",
    "ans = re.findall(pattern,email)\n",
    "print(ans)"
   ]
  },
  {
   "cell_type": "code",
   "execution_count": 10,
   "metadata": {},
   "outputs": [
    {
     "name": "stdout",
     "output_type": "stream",
     "text": [
      "asad\n",
      "[]\n",
      "\n",
      "[]\n",
      "\n"
     ]
    },
    {
     "data": {
      "text/plain": [
       "[]"
      ]
     },
     "execution_count": 10,
     "metadata": {},
     "output_type": "execute_result"
    }
   ],
   "source": [
    "import re\n",
    "s = input()\n",
    "print(re.findall(\"\\d+\",s))\n",
    "\n",
    "import re\n",
    "s= input()\n",
    "pattern = \"\\d+\"\n",
    "ans = re.findall(pattern,s)\n",
    "print(ans)\n",
    "\n",
    "[int(s) for s in input().split() if s.isdigit()]"
   ]
  },
  {
   "cell_type": "code",
   "execution_count": 11,
   "metadata": {},
   "outputs": [
    {
     "name": "stdout",
     "output_type": "stream",
     "text": [
      "5\n",
      "3.55\n"
     ]
    }
   ],
   "source": [
    "#task no 9 \n",
    "n = int(input())\n",
    "sum = 0\n",
    "for i in range(1, n+1):\n",
    "    sum+= i/(i+1)\n",
    "print(round(sum, 2))  # rounded to 2 decimal point"
   ]
  },
  {
   "cell_type": "code",
   "execution_count": 12,
   "metadata": {},
   "outputs": [
    {
     "name": "stdout",
     "output_type": "stream",
     "text": [
      "6\n",
      "601\n"
     ]
    }
   ],
   "source": [
    "def f(n):\n",
    "    if n == 0:\n",
    "        return 1\n",
    "    else:\n",
    "        return f(n-1) + 100\n",
    "\n",
    "n = int(input())\n",
    "print(f(n))"
   ]
  },
  {
   "cell_type": "code",
   "execution_count": null,
   "metadata": {},
   "outputs": [],
   "source": [
    "##Q11\n",
    "import re \n",
    "password = \"asad\"\n",
    "flag = 0\n",
    "while True:   \n",
    "    if (len(password)<8): \n",
    "        flag = -1\n",
    "        break\n",
    "    elif not re.search(\"[a-z]\", password): \n",
    "        flag = -1\n",
    "        break\n",
    "    elif not re.search(\"[A-Z]\", password): \n",
    "        flag = -1\n",
    "        break\n",
    "    elif not re.search(\"[0-9]\", password): \n",
    "        flag = -1\n",
    "        break\n",
    "    elif not re.search(\"[_@$]\", password): \n",
    "        flag = -1\n",
    "        break\n",
    "    elif re.search(\"\\s\", password): \n",
    "        flag = -1\n",
    "        break\n",
    "    else: \n",
    "        flag = 0\n",
    "        print(\"Valid Password\")"
   ]
  },
  {
   "cell_type": "code",
   "execution_count": null,
   "metadata": {},
   "outputs": [
    {
     "name": "stdout",
     "output_type": "stream",
     "text": [
      "> asad\n",
      "> asad\n",
      "> asdad\n",
      "> asdasd\n",
      "> as\n",
      "> da\n",
      "> sd\n",
      "> as\n",
      "> a\n",
      "> sd\n",
      "> a\n",
      "> da\n",
      "> sd\n",
      "> a\n"
     ]
    }
   ],
   "source": [
    "from operator import itemgetter\n",
    "\n",
    "persons = []\n",
    "\n",
    "while True:\n",
    "    line = input(\"> \")\n",
    "    if not line:\n",
    "        break\n",
    "    persons.append(tuple(line.split(',')))\n",
    "\n",
    "persons = sorted(persons, key=itemgetter(0,1,2))\n",
    "\n",
    "for person in persons:\n",
    "    print (','.join(person))"
   ]
  },
  {
   "cell_type": "code",
   "execution_count": 1,
   "metadata": {},
   "outputs": [
    {
     "name": "stdout",
     "output_type": "stream",
     "text": [
      "1505,1540,1575,1610,1645,1680,1715,1750,1785,1820,1855,1890,1925,1960,1995,2030,2065,2100,2135,2170,2205,2240,2275,2310,2345,2380,2415,2450,2485,2520,2555,2590,2625,2660,2695\n"
     ]
    }
   ],
   "source": [
    "nl=[]\n",
    "for x in range(1500, 2701):\n",
    "    if (x%7==0) and (x%5==0):\n",
    "        nl.append(str(x))\n",
    "print (','.join(nl))"
   ]
  },
  {
   "cell_type": "code",
   "execution_count": 4,
   "metadata": {},
   "outputs": [
    {
     "name": "stdout",
     "output_type": "stream",
     "text": [
      "Type in: New to Python or choosing between Python 2 and Python 3\n",
      "[('New', 1), ('Python', 3), ('and', 1), ('between', 1), ('choosing', 1), ('or', 1), ('to', 1)]\n",
      "New 1\n",
      "Python 3\n",
      "and 1\n",
      "between 1\n",
      "choosing 1\n",
      "or 1\n",
      "to 1\n"
     ]
    }
   ],
   "source": [
    "import operator\n",
    "\n",
    "text_line = input(\"Type in: \")\n",
    "\n",
    "freq_dict = {}\n",
    "\n",
    "for i in text_line.split(' '):\n",
    "    if i.isalpha():\n",
    "        if i not in freq_dict:\n",
    "            freq_dict[i] = 1\n",
    "        elif i in freq_dict:\n",
    "            freq_dict[i] = freq_dict[i] + 1\n",
    "    else:\n",
    "        pass\n",
    "\n",
    "sorted_freq_dict = sorted(freq_dict.items(), key = operator.itemgetter(0))\n",
    "print(sorted_freq_dict)\n",
    "\n",
    "for i in sorted_freq_dict:\n",
    "    print(i[0], i[1])"
   ]
  },
  {
   "cell_type": "code",
   "execution_count": null,
   "metadata": {},
   "outputs": [],
   "source": []
  },
  {
   "cell_type": "code",
   "execution_count": null,
   "metadata": {},
   "outputs": [],
   "source": []
  }
 ],
 "metadata": {
  "kernelspec": {
   "display_name": "Python 3",
   "language": "python",
   "name": "python3"
  },
  "language_info": {
   "codemirror_mode": {
    "name": "ipython",
    "version": 3
   },
   "file_extension": ".py",
   "mimetype": "text/x-python",
   "name": "python",
   "nbconvert_exporter": "python",
   "pygments_lexer": "ipython3",
   "version": "3.7.3"
  }
 },
 "nbformat": 4,
 "nbformat_minor": 2
}
