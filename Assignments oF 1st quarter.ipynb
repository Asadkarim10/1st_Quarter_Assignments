{
 "cells": [
  {
   "cell_type": "code",
   "execution_count": 1,
   "metadata": {},
   "outputs": [],
   "source": [
    "#Assignment of First Quarter"
   ]
  },
  {
   "cell_type": "code",
   "execution_count": 1,
   "metadata": {},
   "outputs": [
    {
     "name": "stdout",
     "output_type": "stream",
     "text": [
      "Enter the radius of the circle5\n",
      "area of the circle is {r} 78.50\n"
     ]
    }
   ],
   "source": [
    "#Q1 find the radius of the circle \n",
    "p1 = 3.14\n",
    "r = float(input(\"Enter the radius of the circle\"))\n",
    "area = p1 * r * r\n",
    "print(\"area of the circle is {r} %.2f\" %area)"
   ]
  },
  {
   "cell_type": "code",
   "execution_count": 3,
   "metadata": {},
   "outputs": [
    {
     "name": "stdout",
     "output_type": "stream",
     "text": [
      "Enter the radius of the circle5\n",
      "area of the circle is {r} 78.54 \n"
     ]
    }
   ],
   "source": [
    "#q1 part 2 By using maths\n",
    "import math\n",
    "r = float(input(\"Enter the radius of the circle\"))\n",
    "area = math.pi * r * r\n",
    "print(\"area of the circle is {r} %.2f \" %area)"
   ]
  },
  {
   "cell_type": "code",
   "execution_count": 6,
   "metadata": {},
   "outputs": [
    {
     "name": "stdout",
     "output_type": "stream",
     "text": [
      "Enter Number :-2\n",
      "Negative Number Entered.\n"
     ]
    }
   ],
   "source": [
    "#Q2 find out positive negative and zero numbers\n",
    "num = int(input(\"Enter Number :\"))\n",
    "if num > 0:\n",
    "    print(\"Positive Number Entered.\")\n",
    "elif num == 0:\n",
    "    print(\"Zero Number Entered.\")\n",
    "else:\n",
    "    print(\"Negative Number Entered.\")"
   ]
  },
  {
   "cell_type": "code",
   "execution_count": 7,
   "metadata": {},
   "outputs": [
    {
     "name": "stdout",
     "output_type": "stream",
     "text": [
      "Enter the Numerator:4\n",
      "Enter the Denominator:5\n",
      "Number is not devisible\n"
     ]
    }
   ],
   "source": [
    "#Q3 check the number of division\n",
    "num=int(input(\"Enter the Numerator:\"))\n",
    "den=int(input(\"Enter the Denominator:\"))\n",
    "if num%den == 0:\n",
    "    print(\"Number is divisible\")\n",
    "else:\n",
    "    print(\"Number is not devisible\")"
   ]
  },
  {
   "cell_type": "code",
   "execution_count": 10,
   "metadata": {},
   "outputs": [
    {
     "name": "stdout",
     "output_type": "stream",
     "text": [
      "4056\n"
     ]
    }
   ],
   "source": [
    "#Q4 Days calculator \n",
    "from datetime import date\n",
    "\n",
    "d0 = date(2008, 8, 18)\n",
    "d1 = date(2019, 9, 26)\n",
    "delta = d1 - d0\n",
    "print (delta.days)"
   ]
  },
  {
   "cell_type": "code",
   "execution_count": 14,
   "metadata": {},
   "outputs": [
    {
     "name": "stdout",
     "output_type": "stream",
     "text": [
      "Start date: 02/04/2018\n",
      "End date: 02/05/2019\n",
      "There are 366 days between 2018-02-04 00:00:00 and 2019-02-05 00:00:00.\n"
     ]
    }
   ],
   "source": [
    "#Q4 part B\n",
    "import datetime\n",
    "s=datetime.datetime.strptime(input('Start date: '), '%m/%d/%Y')\n",
    "e=datetime.datetime.strptime(input('End date: '), '%m/%d/%Y')\n",
    "remaindDays=e-s\n",
    "print(f\"There are {remaindDays.days} days between {s} and {e}.\")"
   ]
  },
  {
   "cell_type": "code",
   "execution_count": 15,
   "metadata": {},
   "outputs": [
    {
     "name": "stdout",
     "output_type": "stream",
     "text": [
      "Enter the radius of the sphere:5\n",
      "The volume of the sphere with radius 5.0 is : 523.60\n"
     ]
    }
   ],
   "source": [
    "#Q5 find out volume of the sphere\n",
    "pi = 3.1415926535897931\n",
    "r = float(input(\"Enter the radius of the sphere:\"))\n",
    "V= 4.0/3.0*pi* r**3\n",
    "print(f\"The volume of the sphere with radius {r} is : %.2f\" %V)"
   ]
  },
  {
   "cell_type": "code",
   "execution_count": 17,
   "metadata": {},
   "outputs": [
    {
     "name": "stdout",
     "output_type": "stream",
     "text": [
      "Enter String:asad\n",
      "How many copies of String you need:2\n",
      "2 copies of asad are  asadasad\n"
     ]
    }
   ],
   "source": [
    "#Q6 Copy string N times \n",
    "string= str(input(\"Enter String:\"))\n",
    "copies = int(input(\"How many copies of String you need:\"))\n",
    "x=string*copies\n",
    "print(f\"{copies} copies of {string} are \",x)\n"
   ]
  },
  {
   "cell_type": "code",
   "execution_count": 18,
   "metadata": {},
   "outputs": [
    {
     "name": "stdout",
     "output_type": "stream",
     "text": [
      "Enter Number:5\n",
      "5 is Odd Number\n"
     ]
    }
   ],
   "source": [
    "#Q7 even and odd number checker\n",
    "num = int(input(\"Enter Number:\"))\n",
    "if num % 2==0:\n",
    "    print(f\"{num} is Even Number\")\n",
    "else:\n",
    "    print(f\"{num} is Odd Number\")"
   ]
  },
  {
   "cell_type": "code",
   "execution_count": 19,
   "metadata": {},
   "outputs": [
    {
     "name": "stdout",
     "output_type": "stream",
     "text": [
      "Enter a character: r\n",
      "r is a Consonant\n"
     ]
    }
   ],
   "source": [
    "#Q8 Vowel and consonant tester \n",
    "\n",
    "ch = input(\"Enter a character: \")\n",
    "\n",
    "if(ch=='A' or ch=='a' or ch=='E' or ch =='e' or ch=='I'\n",
    " or ch=='i' or ch=='O' or ch=='o' or ch=='U' or ch=='u'):\n",
    "    print(ch, \"is a Vowel\")\n",
    "else:\n",
    "    print(ch, \"is a Consonant\")"
   ]
  },
  {
   "cell_type": "code",
   "execution_count": 20,
   "metadata": {},
   "outputs": [
    {
     "name": "stdout",
     "output_type": "stream",
     "text": [
      "75.0\n"
     ]
    }
   ],
   "source": [
    "#Q9 find the area of the triangle\n",
    "def get_area(base, height):\n",
    "   return 0.5 * base * height\n",
    "print(get_area(10, 15))"
   ]
  },
  {
   "cell_type": "code",
   "execution_count": 21,
   "metadata": {},
   "outputs": [
    {
     "name": "stdout",
     "output_type": "stream",
     "text": [
      "Enter the principal amount : 2000\n",
      "Enter the number of years : 1\n",
      "Enter the rate of interest : 2\n",
      "Simple interest : 40.0\n"
     ]
    }
   ],
   "source": [
    "#Q10 calculate interest\n",
    "P = float(input(\"Enter the principal amount : \"))\n",
    "N = float(input(\"Enter the number of years : \"))\n",
    "R = float(input(\"Enter the rate of interest : \"))\n",
    "\n",
    "SI = (P * N * R)/100\n",
    "print(\"Simple interest : {}\".format(SI))\n"
   ]
  },
  {
   "cell_type": "code",
   "execution_count": null,
   "metadata": {},
   "outputs": [],
   "source": []
  }
 ],
 "metadata": {
  "kernelspec": {
   "display_name": "Python 3",
   "language": "python",
   "name": "python3"
  },
  "language_info": {
   "codemirror_mode": {
    "name": "ipython",
    "version": 3
   },
   "file_extension": ".py",
   "mimetype": "text/x-python",
   "name": "python",
   "nbconvert_exporter": "python",
   "pygments_lexer": "ipython3",
   "version": "3.7.3"
  }
 },
 "nbformat": 4,
 "nbformat_minor": 2
}
